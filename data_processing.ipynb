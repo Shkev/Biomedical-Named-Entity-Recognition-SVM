{
 "cells": [
  {
   "attachments": {},
   "cell_type": "markdown",
   "metadata": {},
   "source": [
    "# Parsing and Pre-Processing GENIA Text Data"
   ]
  },
  {
   "attachments": {},
   "cell_type": "markdown",
   "metadata": {},
   "source": [
    "The data is given in XML format, with the POS of each word identified. Biological entities are also labelled with the type of entity. We parse this data file and tag each word with the POS it is labelled as and also assign a label to it based on whether or not it is a biological entity."
   ]
  },
  {
   "cell_type": "code",
   "execution_count": 35,
   "metadata": {},
   "outputs": [],
   "source": [
    "import bs4\n",
    "from bs4 import BeautifulSoup\n",
    "data_file_path = './data/test.xml'"
   ]
  },
  {
   "attachments": {},
   "cell_type": "markdown",
   "metadata": {},
   "source": [
    "Here we parse the XML data file to get the POS of each word and determine the semantic biological meaning of each word (if it has one). The words with a biological meaning will be labelled as a 1, and the non-biological words will be labelled with a -1."
   ]
  },
  {
   "cell_type": "code",
   "execution_count": 37,
   "metadata": {},
   "outputs": [],
   "source": [
    "def get_words_part_of_speech(sentence: bs4.element.Tag, words_pos_dict: dict) -> None:\n",
    "    \"\"\"\n",
    "    Extracts words in given sentence and their respective part of speech.\n",
    "    Updates words_pos_dict (passed by reference) to contain these words and their POS.\n",
    "\n",
    "    Arg:\n",
    "        sentence (bs4.element.Tag): The sentence to extract the words and POS from.\n",
    "        words_pos_dict (dict): The dictionary to update with the words and POS.\n",
    "    \"\"\"\n",
    "    words = sentence.find_all('w')\n",
    "    for word in words:\n",
    "        text = word.text.strip()\n",
    "        if text not in words_pos_dict:\n",
    "            words_pos_dict[text] = set()\n",
    "        words_pos_dict[text].add(word['c'])\n",
    "\n",
    "def get_named_bio_entities(sentence: bs4.element.Tag, named_bio_entities_dict: dict) -> None:\n",
    "    \"\"\"\n",
    "    Extracts named biological entities in given sentence.\n",
    "    Updates named_bio_entities_dict (passed by reference) to contain these entities.\n",
    "\n",
    "    Arg:\n",
    "        sentence (bs4.element.Tag): The sentence to extract the named biological entities from.\n",
    "        named_bio_entities_dict (dict): The dictionary to update with the named biological entities.\n",
    "    \"\"\"\n",
    "    bio_entities = sentence.find_all('cons')\n",
    "    for ent in bio_entities:\n",
    "        text = ent['lex'].strip()\n",
    "        if text not in named_bio_entities_dict:\n",
    "            named_bio_entities_dict[text] = set()\n",
    "        named_bio_entities_dict[text].add(ent['sem'])\n",
    "\n",
    "def extract_data_from_xml(data_file_path: str):\n",
    "    \"\"\"\n",
    "    Extracts the data from the xml file and returns a list of tuples\n",
    "    containing the text and the label.\n",
    "    Note that punctuation marks are kept in the data as was done in the presented paper.\n",
    "    However, they are not attached to any of the words.\n",
    "    \n",
    "    Args:\n",
    "        data_file_path (str): The path to the xml file.\n",
    "        \n",
    "    Returns:\n",
    "        List of tuples containing the text and the label.\n",
    "    \"\"\"\n",
    "    data = []\n",
    "    words_pos_dict = dict() # dict of set\n",
    "    named_bio_entities_dict = dict() # dict of set\n",
    "    with open(data_file_path, \"r\") as f:\n",
    "        xml = f.read()\n",
    "        soup = BeautifulSoup(xml, 'xml')\n",
    "        articles = soup.find_all('article')\n",
    "        for art in articles:\n",
    "            sentences = art.find_all('sentence')\n",
    "            for sent in sentences:\n",
    "                get_words_part_of_speech(sent, words_pos_dict)\n",
    "                get_named_bio_entities(sent, named_bio_entities_dict)\n"
   ]
  },
  {
   "cell_type": "code",
   "execution_count": 34,
   "metadata": {},
   "outputs": [
    {
     "name": "stdout",
     "output_type": "stream",
     "text": [
      "{'IL-2': {'NN'}, 'gene': {'NN'}, 'expression': {'NN'}, 'and': {'CC'}, 'NF-kappa': {'NN'}, 'B': {'*', 'NN'}, 'activation': {'NN'}, 'through': {'IN'}, 'CD28': {'*', 'NN'}, 'requires': {'VBZ'}, 'reactive': {'JJ'}, 'oxygen': {'NN'}, 'production': {'NN'}, 'by': {'IN'}, '5-lipoxygenase': {'NN'}, '.': {'.'}, 'Activation': {'NN'}, 'of': {'IN'}, 'the': {'DT'}, 'surface': {'NN'}, 'receptor': {'NN'}, 'provides': {'VBZ'}, 'a': {'DT'}, 'major': {'JJ'}, 'costimulatory': {'JJ', 'NN'}, 'signal': {'NN'}, 'for': {'IN'}, 'T': {'NN'}, 'cell': {'NN'}, 'resulting': {'VBG'}, 'in': {'IN', 'FW'}, 'enhanced': {'VBN'}, 'interleukin-2': {'NN'}, '(': {'('}, ')': {')'}, 'proliferation': {'NN'}, 'In': {'IN'}, 'primary': {'JJ'}, 'lymphocytes': {'NNS'}, 'we': {'PRP'}, 'show': {'VBP'}, 'that': {'IN', 'WDT', 'DT'}, 'ligation': {'NN'}, 'leads': {'VBZ'}, 'to': {'TO'}, 'rapid': {'JJ'}, 'intracellular': {'JJ'}, 'formation': {'NN'}, 'intermediates': {'NNS'}, 'ROIs': {'NNS'}, 'which': {'WDT'}, 'are': {'VBP'}, 'required': {'VBN'}, '-mediated': {'JJ'}, '/': {'*'}, '-responsive': {'JJ'}, 'complex': {'NN'}, 'Delineation': {'NN'}, 'signaling': {'NN'}, 'cascade': {'NN'}, 'was': {'VBD'}, 'found': {'VBN'}, 'involve': {'VB'}, 'protein': {'NN'}, 'tyrosine': {'NN'}, 'kinase': {'NN'}, 'activity': {'NN'}, ',': {','}, 'followed': {'VBN'}, 'phospholipase': {'NN'}, 'A2': {'NN'}, 'Our': {'PRP$'}, 'data': {'NNS'}, 'suggest': {'VBP'}, 'lipoxygenase': {'NN'}, 'metabolites': {'NNS'}, 'activate': {'VBP', 'VB'}, 'ROI': {'NN'}, 'then': {'RB'}, 'induce': {'VBP', 'VB'}, 'via': {'IN'}, 'These': {'DT'}, 'findings': {'NNS'}, 'should': {'MD'}, 'be': {'VB'}, 'useful': {'JJ'}, 'therapeutic': {'JJ'}, 'strategies': {'NNS'}, 'development': {'NN'}, 'immunosuppressants': {'NNS'}, 'targeting': {'VBG'}, 'pathway': {'NN'}, 'The': {'DT'}, 'peri-kappa': {'NN'}, 'site': {'NN'}, 'mediates': {'VBZ'}, 'human': {'JJ'}, 'immunodeficiency': {'NN'}, 'virus': {'NN'}, 'type': {'NN'}, '2': {'CD'}, 'enhancer': {'NN'}, 'monocytes': {'NNS'}, 'but': {'CC'}, 'not': {'RB'}, 'cells': {'NNS'}, 'Human': {'JJ'}, 'HIV-2': {'NN'}, 'like': {'IN'}, 'HIV-1': {'NN'}, 'causes': {'VBZ'}, 'AIDS': {'NN'}, 'is': {'VBZ'}, 'associated': {'VBN'}, 'with': {'IN'}, 'cases': {'NNS'}, 'primarily': {'RB'}, 'West': {'NNP'}, 'Africa': {'NNP'}, 'display': {'VBP'}, 'significant': {'JJ'}, 'differences': {'NNS'}, 'nucleic': {'JJ'}, 'acid': {'NN'}, 'sequence': {'NN'}, 'natural': {'JJ'}, 'history': {'NN'}, 'clinical': {'JJ'}, 'disease': {'NN'}, 'Consistent': {'JJ'}, 'these': {'DT'}, 'have': {'VBP'}, 'previously': {'RB'}, 'demonstrated': {'VBN'}, 'enhancer/promoter': {'NN'}, 'region': {'NN'}, 'functions': {'VBZ'}, 'quite': {'RB'}, 'differently': {'RB'}, 'from': {'IN'}, 'Whereas': {'IN'}, 'following': {'VBG'}, 'T-cell': {'NN'}, 'stimulation': {'NN'}, 'mediated': {'VBN'}, 'largely': {'RB'}, 'binding': {'VBG', 'NN'}, 'transcription': {'NN'}, 'factor': {'NN'}, 'two': {'CD'}, 'adjacent': {'JJ'}, 'kappa': {'NN'}, 'sites': {'NNS'}, 'long': {'JJ'}, 'terminal': {'JJ'}, 'repeat': {'NN'}, 'dependent': {'JJ'}, 'on': {'IN'}, 'four': {'CD'}, 'cis-acting': {'JJ'}, 'elements': {'NNS'}, ':': {':'}, 'single': {'JJ'}, 'purine-rich': {'JJ'}, 'PuB1': {'NN'}, 'PuB2': {'NN'}, 'pets': {'NN'}, 'We': {'PRP'}, 'now': {'RB'}, 'identified': {'VBN'}, 'novel': {'JJ'}, 'element': {'NN'}, 'within': {'IN'}, 'immediately': {'RB'}, 'upstream': {'JJ'}, 'designated': {'VBN'}, 'This': {'DT'}, 'conserved': {'VBN'}, 'among': {'IN'}, 'isolates': {'NNS'}, 'closely': {'RB'}, 'related': {'JJ'}, 'simian': {'JJ'}, 'transfection': {'NN'}, 'assays': {'NNS'}, 'this': {'DT'}, 'mediate': {'VB'}, 'monocytic': {'JJ'}, 'lines': {'NNS'}, 'first': {'JJ'}, 'description': {'NN'}, 'an': {'DT'}, 'displays': {'VBZ'}, 'such': {'JJ'}, 'monocyte': {'NN'}, 'specificity': {'NN'}, 'no': {'DT'}, 'comparable': {'JJ'}, 'has': {'VBZ'}, 'been': {'VBN'}, 'clearly': {'RB'}, 'defined': {'VBN'}, 'While': {'IN'}, 'nuclear': {'JJ'}, 's': {'NNS'}, 'both': {'CC'}, 'peripheral': {'JJ'}, 'blood': {'NN'}, 'binds': {'VBZ'}, 'electrophoretic': {'JJ'}, 'mobility': {'NN'}, 'shift': {'NN'}, 'either': {'CC'}, 'different': {'JJ'}, 'versus': {'CC'}, 'or': {'CC'}, 'recognizing': {'VBG'}, 'undergoes': {'VBZ'}, 'differential': {'JJ'}, 'modification': {'NN'}, 'thus': {'RB'}, 'supporting': {'VBG'}, 'Further': {'RB'}, 'while': {'IN'}, 'specific': {'JJ'}, 'constitutive': {'JJ'}, 'seen': {'VBN'}, 'phorbol': {'NN'}, 'esters': {'NNS'}, 'induces': {'VBZ'}, 'additional': {'JJ'}, 'Understanding': {'VBG'}, 'monocyte-specific': {'JJ'}, 'function': {'NN'}, 'may': {'MD'}, 'ultimately': {'RB'}, 'provide': {'VBP', 'VB'}, 'insight': {'NN'}, 'into': {'IN'}, 'role': {'NN'}, 'play': {'VBP'}, 'HIV': {'NN'}, 'pathogenesis': {'NN'}, 'E1A': {'NN'}, 'susceptibility': {'NN'}, 'killing': {'NN'}, 'NK': {'NN'}, 'immortalization': {'NN'}, 'adenovirus': {'NN'}, 'infection': {'NN'}, 'Adenovirus': {'NN'}, 'Ad': {'NN'}, 'were': {'VBD'}, 'used': {'VBN'}, 'model': {'VB', 'NN'}, 'changes': {'NNS'}, 'caused': {'VBN'}, 'transient': {'JJ'}, 'vs': {'CC'}, 'stable': {'JJ'}, 'Only': {'RB'}, 'stably': {'RB'}, 'transfected': {'VBN'}, 'target': {'NN'}, 'exhibited': {'VBD'}, 'cytolytic': {'JJ'}, 'despite': {'IN'}, 'equivalent': {'JJ'}, 'levels': {'NNS'}, 'proteins': {'NNS'}, 'Ad-infected': {'JJ'}, 'targets': {'NNS'}, 'inability': {'NN'}, 'products': {'NNS'}, 'during': {'IN'}, 'explained': {'VBN'}, 'inhibitory': {'JJ'}, 'effect': {'NN'}, 'viral': {'JJ'}, 'otherwise': {'RB'}, 'susceptible': {'JJ'}, 'effects': {'NNS'}, 'class': {'NN'}, 'I': {'CD'}, 'MHC': {'NN'}, 'antigen': {'NN'}, 'phenotypes': {'NNS'}, 'infected': {'JJ'}, 'suggests': {'VBZ'}, 'effective': {'JJ'}, 'immunologic': {'JJ'}, 'barrier': {'NN'}, 'against': {'IN'}, 'vivo': {'FW'}, 'survival': {'NN'}, 'neoplastic': {'JJ'}, 'progression': {'NN'}, 'E1A-immortalized': {'JJ'}, 'emerge': {'VB'}, 'reservoir': {'NN'}, 'persistently': {'RB'}, 'host': {'NN'}, 'Distinct': {'JJ'}, 'properties': {'NNS'}, 'identify': {'VBP'}, 'functionally': {'RB'}, 'CD4': {'NN'}, 'epitopes': {'NNS'}, 'coreceptor': {'NN'}, 'interacts': {'VBZ'}, 'non-polymorphic': {'JJ'}, 'regions': {'NNS'}, 'histocompatibility': {'NN'}, 'II': {'CD'}, 'molecules': {'NNS'}, 'antigen-presenting': {'JJ'}, 'contributes': {'VBZ'}, 'investigated': {'VBN'}, 'triggering': {'NN'}, 'activating': {'VBG', 'NN'}, 'signals': {'NNS'}, 'lymphoma': {'NN'}, 'using': {'VBG'}, 'monoclonal': {'JJ'}, 'antibodies': {'NNS'}, 'mAb': {'NN'}, 'recognize': {'VBP'}, 'demonstrate': {'VBP'}, 'delivers': {'VBZ'}, 'capable': {'JJ'}, 'NF-AT': {'NN'}, 'anti-CD4': {'JJ'}, 'gp120': {'NN'}, 'could': {'MD'}, 'all': {'DT'}, 'trigger': {'VB'}, 'kinases': {'NNS'}, 'p56lck': {'NN'}, 'p59fyn': {'NN'}, 'phosphorylation': {'NN'}, 'Shc': {'NN'}, 'adaptor': {'NN'}, 'Ras': {'*', 'NN'}, 'they': {'PRP'}, 'differed': {'VBD'}, 'significantly': {'RB'}, 'their': {'PRP$'}, 'ability': {'NN'}, 'Lack': {'NN'}, 'full': {'JJ'}, 'correlated': {'VBN'}, 'dramatically': {'RB'}, 'reduced': {'VBN'}, 'capacity': {'NN'}, 'calcium': {'NN'}, 'flux': {'NN'}, 'complemented': {'VBN'}, 'ionophore': {'NN'}, 'results': {'NNS'}, 'distinct': {'JJ'}, 'involved': {'VBN'}, '/protein': {'NN'}, 'C': {'NN'}, 'pathways': {'NNS'}}\n"
     ]
    }
   ],
   "source": [
    "extract_data_from_xml(data_file_path)"
   ]
  },
  {
   "cell_type": "code",
   "execution_count": null,
   "metadata": {},
   "outputs": [],
   "source": []
  }
 ],
 "metadata": {
  "kernelspec": {
   "display_name": "env",
   "language": "python",
   "name": "python3"
  },
  "language_info": {
   "codemirror_mode": {
    "name": "ipython",
    "version": 3
   },
   "file_extension": ".py",
   "mimetype": "text/x-python",
   "name": "python",
   "nbconvert_exporter": "python",
   "pygments_lexer": "ipython3",
   "version": "3.10.4"
  },
  "orig_nbformat": 4,
  "vscode": {
   "interpreter": {
    "hash": "72f86c46800bdf116255aecb4724685bd63dbc1069855c869a8e3dd17ec92b2e"
   }
  }
 },
 "nbformat": 4,
 "nbformat_minor": 2
}
